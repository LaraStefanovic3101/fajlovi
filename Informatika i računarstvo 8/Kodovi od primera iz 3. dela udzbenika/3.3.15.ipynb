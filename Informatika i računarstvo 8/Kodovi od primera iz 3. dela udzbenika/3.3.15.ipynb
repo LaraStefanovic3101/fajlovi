{
 "cells": [
  {
   "cell_type": "code",
   "execution_count": null,
   "metadata": {},
   "outputs": [],
   "source": [
    "#uvoz biblioteke\n",
    "import math"
   ]
  },
  {
   "cell_type": "code",
   "execution_count": null,
   "metadata": {},
   "outputs": [],
   "source": [
    "#ulazni blok - učitavanje vrednosti\n",
    "a = int(input(\"Unesi stranicu a: \"))\n",
    "h = int(input(\"Unesi visinu h: \"))"
   ]
  },
  {
   "cell_type": "code",
   "execution_count": null,
   "metadata": {},
   "outputs": [],
   "source": [
    "#blok obrade\n",
    "B = (a**2 * math.sqrt(3))/4\n",
    "M = 3 * a * h\n",
    "P = 2 * B + M"
   ]
  },
  {
   "cell_type": "code",
   "execution_count": null,
   "metadata": {},
   "outputs": [],
   "source": [
    "#izlazni blok - prikaz rezultata\n",
    "print(\"Površina prizme je:\", P)"
   ]
  }
 ],
 "metadata": {
  "kernelspec": {
   "display_name": "Python 3",
   "language": "python",
   "name": "python3"
  },
  "language_info": {
   "codemirror_mode": {
    "name": "ipython",
    "version": 3
   },
   "file_extension": ".py",
   "mimetype": "text/x-python",
   "name": "python",
   "nbconvert_exporter": "python",
   "pygments_lexer": "ipython3",
   "version": "3.7.4"
  }
 },
 "nbformat": 4,
 "nbformat_minor": 2
}
