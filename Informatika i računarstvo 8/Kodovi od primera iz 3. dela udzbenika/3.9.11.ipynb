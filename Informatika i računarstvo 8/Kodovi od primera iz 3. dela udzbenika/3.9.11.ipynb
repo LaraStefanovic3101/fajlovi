{
 "cells": [
  {
   "cell_type": "code",
   "execution_count": null,
   "metadata": {},
   "outputs": [],
   "source": [
    "import pandas as pd\n",
    "import matplotlib.pyplot as plt"
   ]
  },
  {
   "cell_type": "code",
   "execution_count": null,
   "metadata": {},
   "outputs": [],
   "source": [
    "Ocene = [[1, \"Una\",    \"Zorić\",       5, 4, 2, 3, 3],\n",
    "         [2, \"Marta\",  \"Stojanović\",  5, 4, 5, 5, 4],\n",
    "         [3, \"Ognjen\", \"Novaković\",   3, 4, 3, 4, 4],\n",
    "         [4, \"Petra\",  \"Kaličanin\",   5, 5, 5, 5, 5],\n",
    "         [5, \"Novak\",  \"Đorđević\",    2, 2, 2, 3, 3],\n",
    "         [6, \"Đurđe\",  \"Martać\",      1, 1, 1, 3, 1],\n",
    "         [7, \"Kalina\", \"Ognjenović\",  5, 5, 4, 4, 2],\n",
    "         [8, \"Vanja\",  \"Čolović\",     5, 3, 5, 4, 2]]"
   ]
  },
  {
   "cell_type": "code",
   "execution_count": null,
   "metadata": {},
   "outputs": [],
   "source": [
    "TabOcene = pd.DataFrame(Ocene)\n",
    "TabOcene.columns=[\"Rbr\", \"Ime\", \"Prezime\", \"Biologija\", \n",
    "                  \"Istorija\", \"Geografija\", \"Fizika\", \"Hemija\"]"
   ]
  },
  {
   "cell_type": "code",
   "execution_count": null,
   "metadata": {},
   "outputs": [],
   "source": [
    "TabOcene"
   ]
  },
  {
   "cell_type": "code",
   "execution_count": null,
   "metadata": {},
   "outputs": [],
   "source": [
    "TabOcene[\"Prosek\"]= \"\"\n",
    "TabOcene[\"Prosek\"] = TabOcene.loc[:,\"Biologija\":\"Hemija\"].mean(axis = 1)"
   ]
  },
  {
   "cell_type": "code",
   "execution_count": null,
   "metadata": {},
   "outputs": [],
   "source": [
    "TabOcene"
   ]
  },
  {
   "cell_type": "code",
   "execution_count": null,
   "metadata": {},
   "outputs": [],
   "source": [
    "Nedovoljan = 0\n",
    "Dovoljan = 0\n",
    "Dobar = 0\n",
    "Vrlo_dobar = 0\n",
    "Odličan = 0"
   ]
  },
  {
   "cell_type": "code",
   "execution_count": null,
   "metadata": {},
   "outputs": [],
   "source": [
    "for red in range (TabOcene[\"Prosek\"].count()):\n",
    "    if TabOcene[\"Prosek\"][red] < 1.5:\n",
    "        Nedovoljan = Nedovoljan + 1\n",
    "    elif (TabOcene[\"Prosek\"][red] >= 1.5 and TabOcene[\"Prosek\"][red] < 2.5): \n",
    "        Dovoljan = Dovoljan + 1\n",
    "    elif (TabOcene[\"Prosek\"][red] >= 2.5 and TabOcene[\"Prosek\"][red] < 3.5): \n",
    "        Dobar = Dobar + 1\n",
    "    elif (TabOcene[\"Prosek\"][red] >= 3.5 and TabOcene[\"Prosek\"][red] < 4.5): \n",
    "        Vrlo_dobar = Vrlo_dobar + 1\n",
    "    elif TabOcene[\"Prosek\"][red] >= 4.5: \n",
    "        Odličan = Odličan + 1"
   ]
  },
  {
   "cell_type": "code",
   "execution_count": null,
   "metadata": {},
   "outputs": [],
   "source": [
    "Uspesi = {\"Nedovoljni\":Nedovoljan, \"Dovoljni\":Dovoljan, \"Dobri\":Dobar, \n",
    "          \"Vrlo dobri\":Vrlo_dobar, \"Odlični\":Odličan}"
   ]
  },
  {
   "cell_type": "code",
   "execution_count": null,
   "metadata": {},
   "outputs": [],
   "source": [
    "izmeštanje = [0,0,0,0,0.3]\n",
    "plt.pie(Uspesi.values(), autopct=\"%0.1f%%\", textprops={\"fontsize\": 11}, explode=izmeštanje)\n",
    "plt.title(\"Uspeh učenika iz VIII/1\", size=15)\n",
    "plt.legend(Uspesi.keys(), bbox_to_anchor=(1,1), prop = {\"size\":13})\n",
    "plt.show()\n",
    "plt.close()"
   ]
  }
 ],
 "metadata": {
  "kernelspec": {
   "display_name": "Python 3",
   "language": "python",
   "name": "python3"
  },
  "language_info": {
   "codemirror_mode": {
    "name": "ipython",
    "version": 3
   },
   "file_extension": ".py",
   "mimetype": "text/x-python",
   "name": "python",
   "nbconvert_exporter": "python",
   "pygments_lexer": "ipython3",
   "version": "3.7.4"
  }
 },
 "nbformat": 4,
 "nbformat_minor": 2
}
