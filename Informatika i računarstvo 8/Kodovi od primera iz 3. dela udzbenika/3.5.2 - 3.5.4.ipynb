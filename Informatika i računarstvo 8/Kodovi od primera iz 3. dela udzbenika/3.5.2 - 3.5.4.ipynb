{
 "cells": [
  {
   "cell_type": "code",
   "execution_count": null,
   "metadata": {},
   "outputs": [],
   "source": [
    "Rezultati = [[1, \"Una\",    \"Zorić\",      16.32, 1.21, 25],\n",
    "             [2, \"Marta\",  \"Stanojević\", 15.44, 1.01, 16],\n",
    "             [3, \"Ognjen\", \"Novaković\",  14.56, 1.10, 5],\n",
    "             [4, \"Petra\",  \"Kaličanin\",  16.98, 0.89, 21],\n",
    "             [5, \"Novak\",  \"Đorđević\",   15.01, 1.32, 28],\n",
    "             [6, \"Đurđe\",  \"Martać\",     16.25, 1.18, 25],\n",
    "             [7, \"Kalina\", \"Ognjenović\", 14.38, 0.95, 25],\n",
    "             [8, \"Vanja\",  \"Čolović\",    14.55, 0.98, 26]]"
   ]
  },
  {
   "cell_type": "code",
   "execution_count": null,
   "metadata": {},
   "outputs": [],
   "source": [
    "Rezultati[6]"
   ]
  },
  {
   "cell_type": "code",
   "execution_count": null,
   "metadata": {},
   "outputs": [],
   "source": [
    "zbirCucnjeva = 0\n",
    "for red in Rezultati:\n",
    "    zbirCucnjeva = zbirCucnjeva + red[5]\n",
    "ProsekCucnjeva = zbirCucnjeva / len(Rezultati)"
   ]
  },
  {
   "cell_type": "code",
   "execution_count": null,
   "metadata": {},
   "outputs": [],
   "source": [
    "print(\"Prosečan broj izvedenih čučnjeva je:\", ProsekCucnjeva)"
   ]
  },
  {
   "cell_type": "code",
   "execution_count": null,
   "metadata": {},
   "outputs": [],
   "source": []
  },
  {
   "cell_type": "markdown",
   "metadata": {},
   "source": [
    "**Blok vežbaj sa strane 160:**"
   ]
  },
  {
   "cell_type": "code",
   "execution_count": null,
   "metadata": {},
   "outputs": [],
   "source": [
    "x = Rezultati[0][5]\n",
    "for i in range(len(Rezultati)):\n",
    "    if Rezultati[i][5] > x:\n",
    "        x = Rezultati[i][5]"
   ]
  }
 ],
 "metadata": {
  "kernelspec": {
   "display_name": "Python 3",
   "language": "python",
   "name": "python3"
  },
  "language_info": {
   "codemirror_mode": {
    "name": "ipython",
    "version": 3
   },
   "file_extension": ".py",
   "mimetype": "text/x-python",
   "name": "python",
   "nbconvert_exporter": "python",
   "pygments_lexer": "ipython3",
   "version": "3.7.4"
  }
 },
 "nbformat": 4,
 "nbformat_minor": 2
}
