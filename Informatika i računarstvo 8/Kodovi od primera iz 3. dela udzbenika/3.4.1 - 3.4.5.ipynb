{
 "cells": [
  {
   "cell_type": "code",
   "execution_count": null,
   "metadata": {},
   "outputs": [],
   "source": [
    "import pandas as pd"
   ]
  },
  {
   "cell_type": "code",
   "execution_count": null,
   "metadata": {},
   "outputs": [],
   "source": [
    "ElektroKomponente = [\"otpornici\", \"kondenzatori\", \"kalemovi\", \"diode\", \"tranzistori\", \"integrisana kola\"]"
   ]
  },
  {
   "cell_type": "code",
   "execution_count": null,
   "metadata": {},
   "outputs": [],
   "source": [
    "PoprečniPresekProvodnika = [1.0, 1.5, 2.5, 4.0, 6.0]"
   ]
  },
  {
   "cell_type": "code",
   "execution_count": null,
   "metadata": {},
   "outputs": [],
   "source": [
    "AmperažaОsigurača = [16, 10, 20, 6, 35, 25]"
   ]
  },
  {
   "cell_type": "code",
   "execution_count": null,
   "metadata": {},
   "outputs": [],
   "source": [
    "print(ElektroKomponente)"
   ]
  },
  {
   "cell_type": "code",
   "execution_count": null,
   "metadata": {},
   "outputs": [],
   "source": [
    "ElektroKomponente"
   ]
  },
  {
   "cell_type": "code",
   "execution_count": null,
   "metadata": {},
   "outputs": [],
   "source": [
    "print(\"Najmanja amperaža je:\", min(AmperažaОsigurača))\n",
    "print(\"Najveća amperaža je:\", max(AmperažaОsigurača))\n",
    "print(\"Zbir amperaža je:\", sum(AmperažaОsigurača))\n",
    "print(\"Broj elemenata liste je:\", len(AmperažaОsigurača))\n",
    "print(\"Prosečna amperaža je:\", sum(AmperažaОsigurača)/len(AmperažaОsigurača))\n",
    "print(\"Sortirana lista:\", sorted(AmperažaОsigurača))"
   ]
  },
  {
   "cell_type": "code",
   "execution_count": null,
   "metadata": {},
   "outputs": [],
   "source": [
    "AmperažaОsigurača.sort(reverse = True)\n",
    "AmperažaОsigurača"
   ]
  },
  {
   "cell_type": "code",
   "execution_count": null,
   "metadata": {},
   "outputs": [],
   "source": [
    "OceneNaPolugodju = [4, 5, 2, 4, 5, 3, 5, 5, 4, 3, 5, 5]\n",
    "print(\"Na kraju 1. polugodišta imam\", OceneNaPolugodju.count(5), \"petica.\")"
   ]
  }
 ],
 "metadata": {
  "kernelspec": {
   "display_name": "Python 3",
   "language": "python",
   "name": "python3"
  },
  "language_info": {
   "codemirror_mode": {
    "name": "ipython",
    "version": 3
   },
   "file_extension": ".py",
   "mimetype": "text/x-python",
   "name": "python",
   "nbconvert_exporter": "python",
   "pygments_lexer": "ipython3",
   "version": "3.7.4"
  }
 },
 "nbformat": 4,
 "nbformat_minor": 2
}
