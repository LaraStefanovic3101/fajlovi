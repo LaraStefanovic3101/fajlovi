{
 "cells": [
  {
   "cell_type": "code",
   "execution_count": null,
   "metadata": {},
   "outputs": [],
   "source": [
    "import matplotlib.pyplot as plt"
   ]
  },
  {
   "cell_type": "code",
   "execution_count": null,
   "metadata": {},
   "outputs": [],
   "source": [
    "Mesec=[\"jan\",\"feb\",\"mar\",\"apr\",\"maj\",\"jun\",\"jul\",\"avg\",\"sep\",\"okt\",\"nov\",\"dec\"]\n",
    "Temperatura=[1.4,3.05,7.65,12.4,17.4,20.45,22.6,22.75,18.25,13.35,7.25, 2.65]"
   ]
  },
  {
   "cell_type": "code",
   "execution_count": null,
   "metadata": {},
   "outputs": [],
   "source": [
    "plt.figure(figsize = (10,3)) #veličina grafikona u inčima (dužina, visina)\n",
    "plt.plot(Mesec, Temperatura, label = \"Niš\", color=\"g\") #oznaka i boja linije\n",
    "plt.title(\"Prosečne temperature u Nišu u 2019.\", size=16) #naslov\n",
    "plt.xlabel(\"Meseci\", size=14) #oznaka x ose\n",
    "plt.ylabel(\"Temperature\", size=14) #oznaka y ose\n",
    "plt.legend() #legenda se automatski pravi na osnovu parametra label funkcije plt.plot\n",
    "plt.show()\n",
    "plt.close()"
   ]
  },
  {
   "cell_type": "code",
   "execution_count": null,
   "metadata": {},
   "outputs": [],
   "source": []
  }
 ],
 "metadata": {
  "kernelspec": {
   "display_name": "Python 3",
   "language": "python",
   "name": "python3"
  },
  "language_info": {
   "codemirror_mode": {
    "name": "ipython",
    "version": 3
   },
   "file_extension": ".py",
   "mimetype": "text/x-python",
   "name": "python",
   "nbconvert_exporter": "python",
   "pygments_lexer": "ipython3",
   "version": "3.7.4"
  }
 },
 "nbformat": 4,
 "nbformat_minor": 2
}
