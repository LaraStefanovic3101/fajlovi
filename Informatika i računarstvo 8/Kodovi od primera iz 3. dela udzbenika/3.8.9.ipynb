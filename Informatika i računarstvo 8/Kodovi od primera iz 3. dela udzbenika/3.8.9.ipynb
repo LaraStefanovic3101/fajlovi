{
 "cells": [
  {
   "cell_type": "code",
   "execution_count": 1,
   "metadata": {},
   "outputs": [],
   "source": [
    "import pandas as pd"
   ]
  },
  {
   "cell_type": "code",
   "execution_count": 2,
   "metadata": {},
   "outputs": [],
   "source": [
    "#Učitavanje tabela iz Excel-ovog fajla sa 4 radna lista\n",
    "#tabele iz radnih listova se učitavaju u posebne promenljive\n",
    "Rez81 = pd.read_excel(\"C:/Users/Desk/Desktop/Skolsko takmicenje.xlsx\", sheet_name=\"8-1\")\n",
    "Rez82 = pd.read_excel(\"C:/Users/Desk/Desktop/Skolsko takmicenje.xlsx\", sheet_name=\"8-2\")\n",
    "Rez83 = pd.read_excel(\"C:/Users/Desk/Desktop/Skolsko takmicenje.xlsx\", sheet_name=\"8-3\")\n",
    "Rez84 = pd.read_excel(\"C:/Users/Desk/Desktop/Skolsko takmicenje.xlsx\", sheet_name=\"8-4\")"
   ]
  },
  {
   "cell_type": "code",
   "execution_count": 3,
   "metadata": {},
   "outputs": [],
   "source": [
    "#rečnik sa učitanim tabelama\n",
    "TabeleSaRezultatima = {\"8/1\":Rez81, \"8/2\":Rez82, \"8/3\":Rez83, \"8/4\":Rez84}"
   ]
  },
  {
   "cell_type": "code",
   "execution_count": 4,
   "metadata": {},
   "outputs": [],
   "source": [
    "#brojačka petlja u svaku tabelu iz rečnika\n",
    "for i in TabeleSaRezultatima: \n",
    "    #dodaje novi red pod nazivom AVG (prosek)\n",
    "    TabeleSaRezultatima[i].loc[\"AVG\"] = \"\"  \n",
    "    #i u njemu računa prosečan rezultat u navedenom opsegu kolona\n",
    "    TabeleSaRezultatima[i].loc[\"AVG\", \"Trka100m\":\"Čučnjevi\"] = TabeleSaRezultatima[i].iloc[0:-1,5:].mean() "
   ]
  },
  {
   "cell_type": "code",
   "execution_count": 8,
   "metadata": {},
   "outputs": [
    {
     "name": "stdout",
     "output_type": "stream",
     "text": [
      "Prosek rezultata po disciplanama u odeljenju 8/1 je:\n",
      "    R. br.     Ime     Prezime Pol Visina Težina Trka100m Skok udalj Čučnjevi\n",
      "0        1     Una       Zorić   Ž    161     45    16.32       1.21       25\n",
      "1        2   Marta  Stojanović   Ž    165     53    15.44       1.01       16\n",
      "2        3  Ognjen   Novaković   M    171     64    14.56        1.1        5\n",
      "3        4   Petra   Kaličanin   Ž    159     48    16.98       0.89       21\n",
      "4        5   Novak    Đorđević   M    175     67    15.01       1.32       28\n",
      "5        6   Đurđe      Martać   M    178     65    16.25       1.18       25\n",
      "6        7  Kalina  Ognjenović   Ž    170     62    14.38       0.95       25\n",
      "7        8   Vanja     Čolović   M    181     72    14.55       0.98       26\n",
      "AVG                                               15.4362       1.08   21.375\n",
      "\n",
      "Prosek rezultata po disciplanama u odeljenju 8/2 je:\n",
      "    R. br.     Ime     Prezime Pol Visina Težina Trka100m Skok udalj Čučnjevi\n",
      "0        1     Una       Zorić   Ž    161     45    16.22       1.11       24\n",
      "1        2   Marta  Stojanović   Ž    165     53    15.34       1.22       15\n",
      "2        3  Ognjen   Novaković   M    171     64       14          1        6\n",
      "3        4   Petra   Kaličanin   Ž    159     48    16.78       0.88       20\n",
      "4        5   Novak    Đorđević   M    175     67     14.9       1.23       27\n",
      "5        6   Đurđe      Martać   M    178     65    16.15       1.28       24\n",
      "6        7  Kalina  Ognjenović   Ž    170     62    13.98       0.96       24\n",
      "7        8   Vanja     Čolović   M    181     72    14.89        1.2       25\n",
      "AVG                                               15.2825       1.11   20.625\n",
      "\n",
      "Prosek rezultata po disciplanama u odeljenju 8/3 je:\n",
      "    R. br.     Ime     Prezime Pol Visina Težina Trka100m Skok udalj Čučnjevi\n",
      "0        1     Una       Zorić   Ž    161     45    16.32       1.21       25\n",
      "1        2   Marta  Stojanović   Ž    165     53    15.44       1.01       16\n",
      "2        3  Ognjen   Novaković   M    171     64    14.56        1.1        5\n",
      "3        4   Petra   Kaličanin   Ž    159     48    16.98       0.89       21\n",
      "4        5   Novak    Đorđević   M    175     67    15.01       1.32       28\n",
      "5        6   Đurđe      Martać   M    178     65    16.25       1.18       25\n",
      "6        7  Kalina  Ognjenović   Ž    170     62    14.38       0.95       25\n",
      "7        8   Vanja     Čolović   M    181     72    14.55       0.98       26\n",
      "AVG                                               15.4362       1.08   21.375\n",
      "\n",
      "Prosek rezultata po disciplanama u odeljenju 8/4 je:\n",
      "    R. br.     Ime     Prezime Pol Visina Težina Trka100m Skok udalj Čučnjevi\n",
      "0        1     Una       Zorić   Ž    161     45    13.55       1.21        4\n",
      "1        2   Marta  Stojanović   Ž    165     53    16.45       1.01       29\n",
      "2        3  Ognjen   Novaković   M    171     64     15.5       1.12       25\n",
      "3        4   Petra   Kaličanin   Ž    159     48     16.5        1.1       21\n",
      "4        5   Novak    Đorđević   M    175     67    14.38       0.99       23\n",
      "5        6   Đurđe      Martać   M    178     65    16.12       1.25       22\n",
      "6        7  Kalina  Ognjenović   Ž    170     62    14.99       1.18       24\n",
      "7        8   Vanja     Čolović   M    181     72    14.68       0.98       13\n",
      "AVG                                               15.2712      1.105   20.125\n",
      "\n"
     ]
    }
   ],
   "source": [
    "#Nova brojačka petlja izlistava proseke iz navedenih disciplina za svako odeljenje\n",
    "for i in TabeleSaRezultatima:\n",
    "    print(\"Prosek rezultata po disciplanama u odeljenju\", i, \"je:\")\n",
    "    print(TabeleSaRezultatima[i])\n",
    "    print() #prazan red između odeljenja"
   ]
  },
  {
   "cell_type": "code",
   "execution_count": null,
   "metadata": {},
   "outputs": [],
   "source": []
  }
 ],
 "metadata": {
  "kernelspec": {
   "display_name": "Python 3",
   "language": "python",
   "name": "python3"
  },
  "language_info": {
   "codemirror_mode": {
    "name": "ipython",
    "version": 3
   },
   "file_extension": ".py",
   "mimetype": "text/x-python",
   "name": "python",
   "nbconvert_exporter": "python",
   "pygments_lexer": "ipython3",
   "version": "3.8.5"
  }
 },
 "nbformat": 4,
 "nbformat_minor": 2
}
