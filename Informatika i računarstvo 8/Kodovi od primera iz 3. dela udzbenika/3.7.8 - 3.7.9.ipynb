{
 "cells": [
  {
   "cell_type": "code",
   "execution_count": null,
   "metadata": {},
   "outputs": [],
   "source": [
    "import pandas as pd"
   ]
  },
  {
   "cell_type": "code",
   "execution_count": null,
   "metadata": {},
   "outputs": [],
   "source": [
    "Rezultati = [[1, \"Una\",    \"Zorić\",      \"Ž\", 161, 45, 16.32, 1.21, 25],\n",
    "             [2, \"Marta\",  \"Stanojević\", \"Ž\", 165, 53, 15.44, 1.01, 16],\n",
    "             [3, \"Ognjen\", \"Novaković\",  \"M\", 171, 64, 14.56, 1.10, 5],\n",
    "             [4, \"Petra\",  \"Kaličanin\",  \"Ž\", 159, 48, 16.98, 0.89, 21],\n",
    "             [5, \"Novak\",  \"Đorđević\",   \"M\", 175, 67, 15.01, 1.32, 28],\n",
    "             [6, \"Đurđe\",  \"Martać\",     \"M\", 178, 65, 16.25, 1.18, 25],\n",
    "             [7, \"Kalina\", \"Ognjenović\", \"Ž\", 170, 62, 14.38, 0.95, 25],\n",
    "             [8, \"Vanja\",  \"Čolović\",    \"M\", 181, 72, 14.55, 0.98, 26]]"
   ]
  },
  {
   "cell_type": "code",
   "execution_count": null,
   "metadata": {},
   "outputs": [],
   "source": [
    "TabelaRezultata = pd.DataFrame(Rezultati)\n",
    "TabelaRezultata.columns = [\"R. br.\", \"Ime\", \"Prezime\", \"Pol\", \"Visina\", \n",
    "                           \"Težina\", \"Trka100\", \"Skok udalj\", \"Čučnjevi\"]"
   ]
  },
  {
   "cell_type": "code",
   "execution_count": null,
   "metadata": {},
   "outputs": [],
   "source": [
    "TabelaRezultata"
   ]
  },
  {
   "cell_type": "code",
   "execution_count": null,
   "metadata": {},
   "outputs": [],
   "source": []
  },
  {
   "cell_type": "markdown",
   "metadata": {},
   "source": [
    "**Intervalna analiza**"
   ]
  },
  {
   "cell_type": "code",
   "execution_count": null,
   "metadata": {},
   "outputs": [],
   "source": [
    "Loš = 0\n",
    "Dobar = 0\n",
    "Odličan = 0"
   ]
  },
  {
   "cell_type": "code",
   "execution_count": null,
   "metadata": {},
   "outputs": [],
   "source": [
    "for red in range (TabelaRezultata[\"Čučnjevi\"].count()):\n",
    "    if TabelaRezultata[\"Čučnjevi\"][red] < 20:\n",
    "        Loš = Loš + 1\n",
    "    elif (TabelaRezultata[\"Čučnjevi\"][red] >= 20 and TabelaRezultata[\"Čučnjevi\"][red] <= 25): \n",
    "        Dobar = Dobar + 1\n",
    "    elif TabelaRezultata[\"Čučnjevi\"][red] > 25: \n",
    "        Odličan = Odličan + 1"
   ]
  },
  {
   "cell_type": "code",
   "execution_count": null,
   "metadata": {},
   "outputs": [],
   "source": [
    "print(\"LOŠ rezultat je postiglo:\", Loš, \"učenika.\")\n",
    "print(\"DOBAR rezultat je postiglo:\", Dobar, \"učenika.\")\n",
    "print(\"ODLIČAN rezultat je postiglo:\", Odličan, \"učenika.\")"
   ]
  },
  {
   "cell_type": "code",
   "execution_count": null,
   "metadata": {},
   "outputs": [],
   "source": []
  },
  {
   "cell_type": "code",
   "execution_count": null,
   "metadata": {},
   "outputs": [],
   "source": []
  },
  {
   "cell_type": "markdown",
   "metadata": {},
   "source": [
    "**Prikaz u procentima**"
   ]
  },
  {
   "cell_type": "code",
   "execution_count": null,
   "metadata": {},
   "outputs": [],
   "source": [
    "BrojPodataka = TabelaRezultata[\"Čučnjevi\"].count()"
   ]
  },
  {
   "cell_type": "code",
   "execution_count": null,
   "metadata": {},
   "outputs": [],
   "source": [
    "Procenat_loših = Loš * 100 / BrojPodataka  \n",
    "Procenat_dobrih = Dobar * 100 / BrojPodataka\n",
    "Procenat_odličnih = Odličan * 100 / BrojPodataka"
   ]
  },
  {
   "cell_type": "code",
   "execution_count": null,
   "metadata": {},
   "outputs": [],
   "source": [
    "print(\"Rezultat takmičenja u čučnjevima je:\")\n",
    "print(\"Procenat učenika koji su ostvarili loš rezultat je:\", Procenat_loših, \"%\")\n",
    "print(\"Procenat učenika koji su ostvarili dobar rezultat je:\", Procenat_dobrih, \"%\")\n",
    "print(\"Procenat učenika koji su ostvarili odličan rezultat je:\", Procenat_odličnih, \"%\")"
   ]
  }
 ],
 "metadata": {
  "kernelspec": {
   "display_name": "Python 3",
   "language": "python",
   "name": "python3"
  },
  "language_info": {
   "codemirror_mode": {
    "name": "ipython",
    "version": 3
   },
   "file_extension": ".py",
   "mimetype": "text/x-python",
   "name": "python",
   "nbconvert_exporter": "python",
   "pygments_lexer": "ipython3",
   "version": "3.7.4"
  }
 },
 "nbformat": 4,
 "nbformat_minor": 2
}
